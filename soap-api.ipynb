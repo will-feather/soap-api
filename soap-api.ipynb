{
 "cells": [
  {
   "cell_type": "markdown",
   "metadata": {},
   "source": [
    "#### **API SOUP**\n",
    "---"
   ]
  },
  {
   "cell_type": "code",
   "execution_count": 3,
   "metadata": {},
   "outputs": [
    {
     "name": "stdout",
     "output_type": "stream",
     "text": [
      "<?xml version=\"1.0\" encoding=\"utf-8\"?>\n",
      "<soap:Envelope xmlns:soap=\"http://schemas.xmlsoap.org/soap/envelope/\">\n",
      "  <soap:Body>\n",
      "    <m:CountryIntPhoneCodeResponse xmlns:m=\"http://www.oorsprong.org/websamples.countryinfo\">\n",
      "      <m:CountryIntPhoneCodeResult>55</m:CountryIntPhoneCodeResult>\n",
      "    </m:CountryIntPhoneCodeResponse>\n",
      "  </soap:Body>\n",
      "</soap:Envelope>\n",
      "<Response [200]>\n"
     ]
    }
   ],
   "source": [
    "import requests\n",
    "# SOAP request URL\n",
    "url = \"http://webservices.oorsprong.org/websamples.countryinfo/CountryInfoService.wso\"\n",
    "  \n",
    "# structured XML\n",
    "payload = \"\"\"<?xml version=\\\"1.0\\\" encoding=\\\"utf-8\\\"?>\n",
    "            <soap:Envelope xmlns:soap=\\\"http://schemas.xmlsoap.org/soap/envelope/\\\">\n",
    "                <soap:Body>\n",
    "                    <CountryIntPhoneCode xmlns=\\\"http://www.oorsprong.org/websamples.countryinfo\\\">\n",
    "                        <sCountryISOCode>BR</sCountryISOCode>\n",
    "                    </CountryIntPhoneCode>\n",
    "                </soap:Body>\n",
    "            </soap:Envelope>\"\"\"\n",
    "# headers\n",
    "headers = {\n",
    "    'Content-Type': 'text/xml; charset=utf-8'\n",
    "}\n",
    "# POST request\n",
    "response = requests.request(\"POST\", url, headers=headers, data=payload)\n",
    "  \n",
    "# prints the response\n",
    "print(response.text)\n",
    "print(response)"
   ]
  },
  {
   "cell_type": "code",
   "execution_count": 6,
   "metadata": {},
   "outputs": [
    {
     "name": "stdout",
     "output_type": "stream",
     "text": [
      "Phone Code for IN is 91\n",
      "<Response [200]>\n",
      "Phone Code for US is 1\n",
      "<Response [200]>\n",
      "Phone Code for BR is 55\n",
      "<Response [200]>\n"
     ]
    }
   ],
   "source": [
    "import zeep\n",
    "\n",
    "# set the WSDL URL\n",
    "wsdl_url = \"http://webservices.oorsprong.org/websamples.countryinfo/CountryInfoService.wso?WSDL\"\n",
    "  \n",
    "# set method URL\n",
    "method_url = \"http://webservices.oorsprong.org/websamples.countryinfo/CountryIntPhoneCode\"\n",
    "  \n",
    "# set service URL\n",
    "service_url = \"http://webservices.oorsprong.org/websamples.countryinfo/CountryInfoService.wso\"\n",
    "  \n",
    "# create the header element\n",
    "header = zeep.xsd.Element(\n",
    "    \"Header\",\n",
    "    zeep.xsd.ComplexType(\n",
    "        [\n",
    "            zeep.xsd.Element(\n",
    "                \"{http://www.w3.org/2005/08/addressing}Action\", zeep.xsd.String()\n",
    "            ),\n",
    "            zeep.xsd.Element(\n",
    "                \"{http://www.w3.org/2005/08/addressing}To\", zeep.xsd.String()\n",
    "            ),\n",
    "        ]\n",
    "    ),\n",
    ")\n",
    "# set the header value from header element\n",
    "header_value = header(Action=method_url, To=service_url)\n",
    "  \n",
    "# initialize zeep client\n",
    "client = zeep.Client(wsdl=wsdl_url)\n",
    "\n",
    "# set list Country\n",
    "lst_country_code = [\"IN\", \"US\", \"BR\"]\n",
    "\n",
    "# set country code for country in list\n",
    "for country_code in lst_country_code:\n",
    "    \n",
    "    # make the service call\n",
    "    result = client.service.CountryIntPhoneCode(\n",
    "        sCountryISOCode=country_code,\n",
    "        _soapheaders=[header_value]\n",
    "    )\n",
    "    # print the result\n",
    "    print(f\"Phone Code for {country_code} is {result}\")\n",
    "    print(response)"
   ]
  },
  {
   "cell_type": "markdown",
   "metadata": {},
   "source": [
    "##### **SOAP PARA CONSULTA DE CEP**\n",
    "###### **MÉTODO**\n",
    "*<xs:element name=\"consultaCEP\" type=\"tns:consultaCEP\"/>*\n",
    "###### **PARÂMETRO**\n",
    "*<xs:complexType name=\"consultaCEP\">\n",
    " <xs:sequence>\n",
    "  <xs:element minOccurs=\"0\" name=\"cep\" type=\"xs:string\"/>\n",
    " </xs:sequence>\n",
    "</xs:complexType>*\n",
    "###### **SERVICE**\n",
    "*<wsdl:service name=\"AtendeClienteService\">\n",
    " <wsdl:port binding=\"tns:AtendeClienteServiceSoapBinding\" name=\"AtendeClientePort\">\n",
    "  <soap:address location=\"https://apphom.correios.com.br/SigepMasterJPA/AtendeClienteService/AtendeCliente\"/>\n",
    " </wsdl:port>\n",
    "</wsdl:service>*\n",
    "\n",
    "---"
   ]
  },
  {
   "cell_type": "code",
   "execution_count": 21,
   "metadata": {},
   "outputs": [
    {
     "name": "stdout",
     "output_type": "stream",
     "text": [
      "Resultado da consulta: {\n",
      "    'bairro': 'Vila Buenos Aires',\n",
      "    'cep': '03627000',\n",
      "    'cidade': 'São Paulo',\n",
      "    'complemento2': None,\n",
      "    'end': 'Rua João Fidélis Ribeiro',\n",
      "    'uf': 'SP',\n",
      "    'unidadesPostagem': []\n",
      "}\n",
      "O bairro é: Vila Buenos Aires\n"
     ]
    }
   ],
   "source": [
    "import zeep\n",
    "\n",
    "wsdl_url = \"https://apphom.correios.com.br/SigepMasterJPA/AtendeClienteService/AtendeCliente?wsdl\"\n",
    "service_url = \"https://apphom.correios.com.br/SigepMasterJPA/AtendeClienteService/AtendeCliente\"\n",
    "method_url = \"https://apphom.correios.com.br/SigepMasterJPA/AtendeClienteService/consultaCEP\"\n",
    "\n",
    "header = zeep.xsd.Element(\n",
    "    \"Header\",\n",
    "    zeep.xsd.ComplexType(\n",
    "        [\n",
    "            zeep.xsd.Element(\n",
    "                \"{http://www.w3.org/2005/08/addressing}Action\", zeep.xsd.String()\n",
    "            ),\n",
    "            zeep.xsd.Element(\n",
    "                \"{http://www.w3.org/2005/08/addressing}To\", zeep.xsd.String()\n",
    "            ),            \n",
    "        ]\n",
    "    )\n",
    ")\n",
    "\n",
    "header_value = header(Action=method_url, To=service_url)\n",
    "\n",
    "client = zeep.Client(wsdl=wsdl_url)\n",
    "\n",
    "result = client.service.consultaCEP(cep='03627000', _soapheaders=[header_value])\n",
    "\n",
    "print(f'Resultado da consulta: {result}')\n",
    "print(f'O bairro é: {result.bairro}')"
   ]
  },
  {
   "cell_type": "markdown",
   "metadata": {},
   "source": [
    "---\n",
    "##### **targetNamespace**\n",
    "*xmlns:tns=\"http://cliente.bean.master.sigep.bsb.correios.com.br/\"*"
   ]
  },
  {
   "cell_type": "code",
   "execution_count": 61,
   "metadata": {},
   "outputs": [
    {
     "name": "stdout",
     "output_type": "stream",
     "text": [
      "<Response [200]>\n",
      "<soap:Envelope xmlns:soap=\"http://schemas.xmlsoap.org/soap/envelope/\"><soap:Body><ns2:consultaCEPResponse xmlns:ns2=\"http://cliente.bean.master.sigep.bsb.correios.com.br/\"><return><bairro>Vila Buenos Aires</bairro><cep>03627000</cep><cidade>São Paulo</cidade><complemento2></complemento2><end>Rua João Fidélis Ribeiro</end><uf>SP</uf></return></ns2:consultaCEPResponse></soap:Body></soap:Envelope>\n",
      "Bairro: Vila Buenos Aires\n",
      "Endereço: Rua João Fidélis Ribeiro\n",
      "Index: 1 -> Vila Buenos Aires\n",
      "Index: 2 -> 03627000\n",
      "Index: 3 -> São Paulo\n",
      "Index: 4 -> None\n",
      "Index: 5 -> Rua João Fidélis Ribeiro\n",
      "Index: 6 -> SP\n"
     ]
    }
   ],
   "source": [
    "import requests\n",
    "# SOAP request URL\n",
    "url = \"https://apphom.correios.com.br/SigepMasterJPA/AtendeClienteService/AtendeCliente\"\n",
    "  \n",
    "# structured XML\n",
    "payload = \"\"\"<?xml version=\\\"1.0\\\" encoding=\\\"utf-8\\\"?>\n",
    "            <soap:Envelope xmlns:soap=\\\"http://schemas.xmlsoap.org/soap/envelope/\\\">\n",
    "                <soap:Body>\n",
    "                    <consultaCEP xmlns=\\\"http://cliente.bean.master.sigep.bsb.correios.com.br/\\\">\n",
    "                        <cep xmlns=\"\">03627000</cep>\n",
    "                    </consultaCEP>\n",
    "                </soap:Body>\n",
    "            </soap:Envelope>\"\"\"\n",
    "# headers\n",
    "headers = {\n",
    "    'Content-Type': 'text/xml; charset=utf-8'\n",
    "}\n",
    "# POST request\n",
    "response = requests.request(\"POST\", url, headers=headers, data=payload)\n",
    "  \n",
    "# prints the response\n",
    "print(response)\n",
    "print(response.text)\n",
    "\n",
    "\n",
    "import xmltodict\n",
    "\n",
    "result_dict = xmltodict.parse(response.content)\n",
    "content_dict = result_dict['soap:Envelope']['soap:Body']['ns2:consultaCEPResponse']['return']\n",
    "print(f\"Bairro: {content_dict['bairro']}\\nEndereço: {content_dict['end']}\")\n",
    "\n",
    "\n",
    "import requests\n",
    "from xml.etree import ElementTree\n",
    "\n",
    "namespaces = {\n",
    "    'soap': 'http://schemas.xmlsoap.org/soap/envelope/',\n",
    "    'a': 'http://www.etis.fskab.se/v1.0/ETISws',\n",
    "}\n",
    "\n",
    "dom = ElementTree.fromstring(response.content)\n",
    "names = dom.findall('./soap:Body',namespaces)\n",
    "result = names[0][0][0]\n",
    "for i, val in enumerate(result):\n",
    "    print(f'Index: {i+1} -> {val.text}')"
   ]
  },
  {
   "cell_type": "markdown",
   "metadata": {},
   "source": [
    "---"
   ]
  },
  {
   "cell_type": "code",
   "execution_count": null,
   "metadata": {},
   "outputs": [],
   "source": [
    "import requests\n",
    "from bs4 import BeautifulSoup\n",
    "\n",
    "url = 'https://betsbola.com/sistema_v2/usuarios/simulador/desktop/Apostas.aspx?idesporte=102&idcampeonato=574584&idpartida=201313288'\n",
    "headers = {'User-Agent': 'Mozilla/5.0 (Macintosh; Intel Mac OS X 10_11_5) AppleWebKit/537.36 (KHTML, like Gecko) Chrome/50.0.2661.102 Safari/537.36'}\n",
    "result = requests.get(url, headers=headers)\n",
    "print(result.content.decode())\n",
    "\n",
    "soup = BeautifulSoup(result.text, 'html.parser')\n",
    "\n",
    "print(result.status_code)\n",
    "print(soup.prettify())"
   ]
  },
  {
   "cell_type": "markdown",
   "metadata": {},
   "source": [
    "### TESTE"
   ]
  },
  {
   "cell_type": "code",
   "execution_count": null,
   "metadata": {},
   "outputs": [],
   "source": []
  }
 ],
 "metadata": {
  "interpreter": {
   "hash": "26de051ba29f2982a8de78e945f0abaf191376122a1563185a90213a26c5da77"
  },
  "kernelspec": {
   "display_name": "Python 3.10.1 64-bit",
   "language": "python",
   "name": "python3"
  },
  "language_info": {
   "codemirror_mode": {
    "name": "ipython",
    "version": 3
   },
   "file_extension": ".py",
   "mimetype": "text/x-python",
   "name": "python",
   "nbconvert_exporter": "python",
   "pygments_lexer": "ipython3",
   "version": "3.10.1"
  },
  "orig_nbformat": 4
 },
 "nbformat": 4,
 "nbformat_minor": 2
}
